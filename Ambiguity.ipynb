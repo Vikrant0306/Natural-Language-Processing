{
 "cells": [
  {
   "cell_type": "markdown",
   "metadata": {},
   "source": [
    "### Ambiguity in NLP"
   ]
  },
  {
   "cell_type": "code",
   "execution_count": 2,
   "metadata": {},
   "outputs": [
    {
     "name": "stderr",
     "output_type": "stream",
     "text": [
      "[nltk_data] Downloading package wordnet to\n",
      "[nltk_data]     C:\\Users\\Vikrant\\AppData\\Roaming\\nltk_data...\n",
      "[nltk_data]   Package wordnet is already up-to-date!\n",
      "[nltk_data] Downloading package omw-1.4 to\n",
      "[nltk_data]     C:\\Users\\Vikrant\\AppData\\Roaming\\nltk_data...\n",
      "[nltk_data]   Package omw-1.4 is already up-to-date!\n",
      "[nltk_data] Downloading package punkt to\n",
      "[nltk_data]     C:\\Users\\Vikrant\\AppData\\Roaming\\nltk_data...\n",
      "[nltk_data]   Package punkt is already up-to-date!\n"
     ]
    },
    {
     "data": {
      "text/plain": [
       "True"
      ]
     },
     "execution_count": 2,
     "metadata": {},
     "output_type": "execute_result"
    }
   ],
   "source": [
    "import nltk\n",
    "from nltk.corpus import wordnet as wn\n",
    "from nltk.wsd import lesk\n",
    "\n",
    "nltk.download('wordnet')\n",
    "nltk.download('omw-1.4')\n",
    "nltk.download('punkt')"
   ]
  },
  {
   "cell_type": "markdown",
   "metadata": {},
   "source": [
    "#### Word Sense Disambiguation (WSD) using WordNet"
   ]
  },
  {
   "cell_type": "code",
   "execution_count": 3,
   "metadata": {},
   "outputs": [
    {
     "name": "stdout",
     "output_type": "stream",
     "text": [
      "Different meanings of 'bank':\n",
      "bank.n.01: sloping land (especially the slope beside a body of water)\n",
      "depository_financial_institution.n.01: a financial institution that accepts deposits and channels the money into lending activities\n",
      "bank.n.03: a long ridge or pile\n",
      "bank.n.04: an arrangement of similar objects in a row or in tiers\n",
      "bank.n.05: a supply or stock held in reserve for future use (especially in emergencies)\n",
      "bank.n.06: the funds held by a gambling house or the dealer in some gambling games\n",
      "bank.n.07: a slope in the turn of a road or track; the outside is higher than the inside in order to reduce the effects of centrifugal force\n",
      "savings_bank.n.02: a container (usually with a slot in the top) for keeping money at home\n",
      "bank.n.09: a building in which the business of banking transacted\n",
      "bank.n.10: a flight maneuver; aircraft tips laterally about its longitudinal axis (especially in turning)\n",
      "bank.v.01: tip laterally\n",
      "bank.v.02: enclose with a bank\n",
      "bank.v.03: do business with a bank or keep an account at a bank\n",
      "bank.v.04: act as the banker in a game or in gambling\n",
      "bank.v.05: be in the banking business\n",
      "deposit.v.02: put into a bank account\n",
      "bank.v.07: cover with ashes so to control the rate of burning\n",
      "trust.v.01: have confidence or faith in\n"
     ]
    }
   ],
   "source": [
    "word = \"bank\"\n",
    "\n",
    "synsets = wn.synsets(word)\n",
    "print(\"Different meanings of 'bank':\")\n",
    "for syn in synsets:\n",
    "    print(f\"{syn.name()}: {syn.definition()}\")"
   ]
  },
  {
   "cell_type": "code",
   "execution_count": 4,
   "metadata": {},
   "outputs": [
    {
     "name": "stdout",
     "output_type": "stream",
     "text": [
      "\n",
      "Disambiguated Meaning: savings_bank.n.02 - a container (usually with a slot in the top) for keeping money at home\n"
     ]
    }
   ],
   "source": [
    "sentence = \"He went to the bank to deposit money.\"\n",
    "words = nltk.word_tokenize(sentence)\n",
    "\n",
    "sense = lesk(words, 'bank')\n",
    "print(\"\\nDisambiguated Meaning:\", sense.name(), \"-\", sense.definition())"
   ]
  },
  {
   "cell_type": "code",
   "execution_count": 5,
   "metadata": {},
   "outputs": [
    {
     "name": "stdout",
     "output_type": "stream",
     "text": [
      "\n",
      "Disambiguated Meaning: bank.n.01 - sloping land (especially the slope beside a body of water)\n"
     ]
    }
   ],
   "source": [
    "sentence1 = \"He sat on the bank beside the river.\"\n",
    "words1 = nltk.word_tokenize(sentence1)\n",
    "\n",
    "sense1 = lesk(words1, 'bank')\n",
    "print(\"\\nDisambiguated Meaning:\", sense1.name(), \"-\", sense1.definition())"
   ]
  }
 ],
 "metadata": {
  "kernelspec": {
   "display_name": "base",
   "language": "python",
   "name": "python3"
  },
  "language_info": {
   "codemirror_mode": {
    "name": "ipython",
    "version": 3
   },
   "file_extension": ".py",
   "mimetype": "text/x-python",
   "name": "python",
   "nbconvert_exporter": "python",
   "pygments_lexer": "ipython3",
   "version": "3.12.7"
  }
 },
 "nbformat": 4,
 "nbformat_minor": 2
}
